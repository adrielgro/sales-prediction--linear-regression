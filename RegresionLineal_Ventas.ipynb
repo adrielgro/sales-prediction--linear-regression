{
  "nbformat": 4,
  "nbformat_minor": 0,
  "metadata": {
    "colab": {
      "name": "RegresionLineal_Ventas.ipynb",
      "provenance": [],
      "collapsed_sections": []
    },
    "kernelspec": {
      "name": "python3",
      "display_name": "Python 3"
    }
  },
  "cells": [
    {
      "cell_type": "code",
      "metadata": {
        "id": "lixK_lBp_7gZ",
        "colab_type": "code",
        "colab": {}
      },
      "source": [
        "import matplotlib.pyplot as plt"
      ],
      "execution_count": 2,
      "outputs": []
    },
    {
      "cell_type": "code",
      "metadata": {
        "id": "YE7q33uv21s4",
        "colab_type": "code",
        "colab": {
          "base_uri": "https://localhost:8080/",
          "height": 351
        },
        "outputId": "17d7aacc-e578-4ddd-9a4d-712bf57d64b4"
      },
      "source": [
        "ventas_anio = [21657, 26554, 39215, 38313, 42854, 40546]\n",
        "\n",
        "sumatoriaVentas = 0\n",
        "sumatoriaMes = 0\n",
        "sumatoriaVentasXMes = 0\n",
        "mediaMes = 0\n",
        "powMes = 0\n",
        "sumatoriaMesPow = 0\n",
        "for x in ventas_anio:\n",
        "  mes = ventas_anio.index(x) + 1 # mes\n",
        "  \n",
        "  sumatoriaVentas += x\n",
        "  sumatoriaMes += mes\n",
        "  sumatoriaMesPow += mes**2\n",
        "  sumatoriaVentasXMes += (x * mes) # Sumamos y multiplicamos por el mes\n",
        "  if ventas_anio.index(x) < (len(ventas_anio)-1):\n",
        "    powMes += mes\n",
        "  else:\n",
        "    powMes = (powMes+mes)**2\n",
        "\n",
        "b = ((len(ventas_anio) * sumatoriaVentasXMes) - (sumatoriaVentas * sumatoriaMes)) / ((len(ventas_anio) * sumatoriaMesPow) - powMes) \n",
        "print(\"Pendiente: \" + str(b))\n",
        "\n",
        "X = sumatoriaVentas / len(ventas_anio) # mediaVentas\n",
        "t = sumatoriaMes / len(ventas_anio) # mediaMeses\n",
        "a = X - b*t # interseccion\n",
        "\n",
        "print(\"Intersección de la linea: \" + str(a))\n",
        "\n",
        "periodo = 7 # mes a predecir\n",
        "Xt = a + (b * periodo)\n",
        "\n",
        "print(\"\\n\\nPredicción de ventas del 7mo mes: \" + str(Xt))\n",
        "\n",
        "ventas_anio.append(Xt) # Prediccion\n",
        "\n",
        "plt.plot(ventas_anio)\n",
        "plt.show()"
      ],
      "execution_count": 8,
      "outputs": [
        {
          "output_type": "stream",
          "text": [
            "Pendiente: 4069.8\n",
            "Intersección de la linea: 20612.199999999997\n",
            "\n",
            "\n",
            "Predicción de ventas del 7mo mes: 49100.8\n"
          ],
          "name": "stdout"
        },
        {
          "output_type": "display_data",
          "data": {
            "image/png": "[encoded data removed]",
            "text/plain": [
              "<Figure size 432x288 with 1 Axes>"
            ]
          },
          "metadata": {
            "tags": [],
            "needs_background": "light"
          }
        }
      ]
    }
  ]
}